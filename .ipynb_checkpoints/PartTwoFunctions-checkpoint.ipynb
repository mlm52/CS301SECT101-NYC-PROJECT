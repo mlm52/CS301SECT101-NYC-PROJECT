{
 "cells": [
  {
   "cell_type": "code",
   "execution_count": 1,
   "metadata": {},
   "outputs": [],
   "source": [
    "import matplotlib as mpl\n",
    "import matplotlib.pyplot as plt\n",
    "%matplotlib inline\n",
    "import pandas as pd \n",
    "import numpy as np"
   ]
  },
  {
   "cell_type": "code",
   "execution_count": 2,
   "metadata": {},
   "outputs": [
    {
     "name": "stderr",
     "output_type": "stream",
     "text": [
      "C:\\2020FallSemester\\CS301\\Anaconda\\lib\\site-packages\\IPython\\core\\interactiveshell.py:3071: DtypeWarning: Columns (3) have mixed types.Specify dtype option on import or set low_memory=False.\n",
      "  has_raised = await self.run_ast_nodes(code_ast.body, cell_name,\n"
     ]
    }
   ],
   "source": [
    "crash_data = pd.read_csv('../Motor_Vehicle_Collisions_-_Crashes.csv')\n"
   ]
  },
  {
   "cell_type": "code",
   "execution_count": 3,
   "metadata": {},
   "outputs": [],
   "source": [
    "def find_percent_na(ds, col):\n",
    "    return 100 * len(ds.loc[ds[col].isna()])  / ds[col].shape[0]"
   ]
  },
  {
   "cell_type": "code",
   "execution_count": null,
   "metadata": {},
   "outputs": [],
   "source": []
  },
  {
   "cell_type": "code",
   "execution_count": 4,
   "metadata": {},
   "outputs": [
    {
     "name": "stdout",
     "output_type": "stream",
     "text": [
      "CRASH DATE: 0.0%\n",
      "CRASH TIME: 0.0%\n",
      "BOROUGH: 30.61701155715505%\n",
      "ZIP CODE: 30.62912755537417%\n",
      "LATITUDE: 11.937910436686083%\n",
      "LONGITUDE: 11.937910436686083%\n",
      "LOCATION: 11.937910436686083%\n",
      "ON STREET NAME: 20.005600025971134%\n",
      "CROSS STREET NAME: 34.74821912217564%\n",
      "OFF STREET NAME: 85.34909147404741%\n",
      "NUMBER OF PERSONS INJURED: 0.0009855118168663971%\n",
      "NUMBER OF PERSONS KILLED: 0.0017971097836975477%\n",
      "NUMBER OF PEDESTRIANS INJURED: 0.0%\n",
      "NUMBER OF PEDESTRIANS KILLED: 0.0%\n",
      "NUMBER OF CYCLIST INJURED: 0.0%\n",
      "NUMBER OF CYCLIST KILLED: 0.0%\n",
      "NUMBER OF MOTORIST INJURED: 0.0%\n",
      "NUMBER OF MOTORIST KILLED: 0.0%\n",
      "CONTRIBUTING FACTOR VEHICLE 1: 0.2757693948725559%\n",
      "CONTRIBUTING FACTOR VEHICLE 2: 13.924760230772085%\n",
      "CONTRIBUTING FACTOR VEHICLE 3: 93.37753450450785%\n",
      "CONTRIBUTING FACTOR VEHICLE 4: 98.58874707824732%\n",
      "CONTRIBUTING FACTOR VEHICLE 5: 99.63350554669239%\n",
      "COLLISION_ID: 0.0%\n",
      "VEHICLE TYPE CODE 1: 0.5115386042370051%\n",
      "VEHICLE TYPE CODE 2: 16.13317626980299%\n",
      "VEHICLE TYPE CODE 3: 93.54918747449264%\n",
      "VEHICLE TYPE CODE 4: 98.6272979816718%\n",
      "VEHICLE TYPE CODE 5: 99.64324472229437%\n"
     ]
    }
   ],
   "source": [
    "for col in crash_data:\n",
    "    print(f\"{col}: {find_percent_na(crash_data, col)}%\")"
   ]
  },
  {
   "cell_type": "code",
   "execution_count": 5,
   "metadata": {},
   "outputs": [
    {
     "name": "stdout",
     "output_type": "stream",
     "text": [
      "CRASH DATE: object\n",
      "CRASH TIME: object\n",
      "BOROUGH: object\n",
      "ZIP CODE: object\n",
      "LATITUDE: float64\n",
      "LONGITUDE: float64\n",
      "LOCATION: object\n",
      "ON STREET NAME: object\n",
      "CROSS STREET NAME: object\n",
      "OFF STREET NAME: object\n",
      "NUMBER OF PERSONS INJURED: float64\n",
      "NUMBER OF PERSONS KILLED: float64\n",
      "NUMBER OF PEDESTRIANS INJURED: int64\n",
      "NUMBER OF PEDESTRIANS KILLED: int64\n",
      "NUMBER OF CYCLIST INJURED: int64\n",
      "NUMBER OF CYCLIST KILLED: int64\n",
      "NUMBER OF MOTORIST INJURED: int64\n",
      "NUMBER OF MOTORIST KILLED: int64\n",
      "CONTRIBUTING FACTOR VEHICLE 1: object\n",
      "CONTRIBUTING FACTOR VEHICLE 2: object\n",
      "CONTRIBUTING FACTOR VEHICLE 3: object\n",
      "CONTRIBUTING FACTOR VEHICLE 4: object\n",
      "CONTRIBUTING FACTOR VEHICLE 5: object\n",
      "COLLISION_ID: int64\n",
      "VEHICLE TYPE CODE 1: object\n",
      "VEHICLE TYPE CODE 2: object\n",
      "VEHICLE TYPE CODE 3: object\n",
      "VEHICLE TYPE CODE 4: object\n",
      "VEHICLE TYPE CODE 5: object\n"
     ]
    }
   ],
   "source": [
    "for col in crash_data:\n",
    "    print(f\"{col}: {crash_data[col].dtype}\")"
   ]
  },
  {
   "cell_type": "code",
   "execution_count": 6,
   "metadata": {},
   "outputs": [],
   "source": [
    "def count_unique (ds, col):\n",
    "    return ds[col].drop_duplicates().shape[0]"
   ]
  },
  {
   "cell_type": "code",
   "execution_count": 7,
   "metadata": {},
   "outputs": [],
   "source": [
    "def find_outliers(ds, col):\n",
    "    fq1 = ds[col].quantile(0.25)\n",
    "    fq3 = ds[col].quantile(0.75)\n",
    "    fqr = fq3 - fq1\n",
    "    return ds.loc[(ds[col] < fq1 - (1.5 * fqr)) | (ds[col] > fq3 + (1.5 * fqr))][col]"
   ]
  },
  {
   "cell_type": "code",
   "execution_count": 8,
   "metadata": {},
   "outputs": [
    {
     "name": "stdout",
     "output_type": "stream",
     "text": [
      " LATITUDE  :\n",
      "1246        0.000000\n",
      "1589        0.000000\n",
      "1885        0.000000\n",
      "1970       40.514412\n",
      "3468       40.516335\n",
      "             ...    \n",
      "1718998    40.503758\n",
      "1722237    40.501630\n",
      "1722679    40.516337\n",
      "1723325    40.506188\n",
      "1723540    40.508942\n",
      "Name: LATITUDE, Length: 2970, dtype: float64\n"
     ]
    }
   ],
   "source": [
    "print(f\" LATITUDE  :\\n{find_outliers(crash_data, 'LATITUDE')}\")"
   ]
  },
  {
   "cell_type": "code",
   "execution_count": 9,
   "metadata": {},
   "outputs": [
    {
     "name": "stdout",
     "output_type": "stream",
     "text": [
      "CRASH DATE: 3039\n",
      "CRASH TIME: 1440\n",
      "BOROUGH: 6\n",
      "ZIP CODE: 423\n",
      "LOCATION: 223898\n",
      "ON STREET NAME: 11990\n",
      "CROSS STREET NAME: 18714\n",
      "OFF STREET NAME: 155823\n",
      "NUMBER OF PEDESTRIANS INJURED: 13\n",
      "NUMBER OF PEDESTRIANS KILLED: 4\n",
      "NUMBER OF CYCLIST INJURED: 5\n",
      "NUMBER OF CYCLIST KILLED: 3\n",
      "NUMBER OF MOTORIST INJURED: 27\n",
      "NUMBER OF MOTORIST KILLED: 6\n",
      "CONTRIBUTING FACTOR VEHICLE 1: 62\n",
      "CONTRIBUTING FACTOR VEHICLE 2: 62\n",
      "CONTRIBUTING FACTOR VEHICLE 3: 51\n",
      "CONTRIBUTING FACTOR VEHICLE 4: 40\n",
      "CONTRIBUTING FACTOR VEHICLE 5: 30\n",
      "COLLISION_ID: 1724992\n",
      "VEHICLE TYPE CODE 1: 1132\n",
      "VEHICLE TYPE CODE 2: 1233\n",
      "VEHICLE TYPE CODE 3: 170\n",
      "VEHICLE TYPE CODE 4: 75\n",
      "VEHICLE TYPE CODE 5: 52\n"
     ]
    }
   ],
   "source": [
    "for col in crash_data:\n",
    "    if(crash_data[col].dtype != np.float64):\n",
    "        print(f\"{col}: {count_unique(crash_data, col)}\")"
   ]
  },
  {
   "cell_type": "code",
   "execution_count": null,
   "metadata": {},
   "outputs": [],
   "source": []
  },
  {
   "cell_type": "code",
   "execution_count": null,
   "metadata": {},
   "outputs": [],
   "source": []
  }
 ],
 "metadata": {
  "kernelspec": {
   "display_name": "Python 3",
   "language": "python",
   "name": "python3"
  },
  "language_info": {
   "codemirror_mode": {
    "name": "ipython",
    "version": 3
   },
   "file_extension": ".py",
   "mimetype": "text/x-python",
   "name": "python",
   "nbconvert_exporter": "python",
   "pygments_lexer": "ipython3",
   "version": "3.8.3"
  }
 },
 "nbformat": 4,
 "nbformat_minor": 4
}
