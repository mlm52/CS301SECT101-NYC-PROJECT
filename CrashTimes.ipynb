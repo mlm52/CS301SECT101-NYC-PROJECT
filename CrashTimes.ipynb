{
 "metadata": {
  "language_info": {
   "codemirror_mode": {
    "name": "ipython",
    "version": 3
   },
   "file_extension": ".py",
   "mimetype": "text/x-python",
   "name": "python",
   "nbconvert_exporter": "python",
   "pygments_lexer": "ipython3",
   "version": "3.8.3-final"
  },
  "orig_nbformat": 2,
  "kernelspec": {
   "name": "python3",
   "display_name": "Python 3"
  }
 },
 "nbformat": 4,
 "nbformat_minor": 2,
 "cells": [
  {
   "cell_type": "code",
   "execution_count": 4,
   "metadata": {},
   "outputs": [],
   "source": [
    "import pandas as pd\n",
    "import numpy as np"
   ]
  },
  {
   "cell_type": "code",
   "execution_count": 5,
   "metadata": {},
   "outputs": [
    {
     "output_type": "execute_result",
     "data": {
      "text/plain": [
       "         CRASH DATE CRASH TIME    BOROUGH ZIP CODE   LATITUDE  LONGITUDE  \\\n",
       "0        11/17/2018       8:30     QUEENS    11368  40.745060 -73.859220   \n",
       "1        12/06/2018      14:00        NaN      NaN  40.545395 -74.165750   \n",
       "2        11/26/2018      14:10   BROOKLYN    11226  40.641006 -73.956154   \n",
       "3        12/08/2018       0:00  MANHATTAN    10003  40.725056 -73.990270   \n",
       "4        11/17/2018      17:36  MANHATTAN    10026  40.804157 -73.955550   \n",
       "...             ...        ...        ...      ...        ...        ...   \n",
       "1722842  07/01/2012       9:45        NaN      NaN        NaN        NaN   \n",
       "1722843  07/01/2012       9:59      BRONX    10452  40.835397 -73.920305   \n",
       "1722844  07/01/2012       9:40     QUEENS    11354  40.764455 -73.831773   \n",
       "1722845  07/01/2012       9:50  MANHATTAN    10019  40.766779 -73.996762   \n",
       "1722846  07/01/2012       9:50     QUEENS    11001  40.736245 -73.702966   \n",
       "\n",
       "                          LOCATION                    ON STREET NAME  \\\n",
       "0            (40.74506, -73.85922)  48 AVENUE                          \n",
       "1           (40.545395, -74.16575)  RICHMOND AVENUE                    \n",
       "2          (40.641006, -73.956154)                               NaN   \n",
       "3           (40.725056, -73.99027)                               NaN   \n",
       "4           (40.804157, -73.95555)                               NaN   \n",
       "...                            ...                               ...   \n",
       "1722842                        NaN                               NaN   \n",
       "1722843    (40.835397, -73.920305)  EAST 167 STREET                    \n",
       "1722844   (40.7644548, -73.831773)  35 AVENUE                          \n",
       "1722845  (40.7667789, -73.9967618)  WEST SIDE HIGHWAY                  \n",
       "1722846  (40.7362448, -73.7029656)  265 STREET                         \n",
       "\n",
       "                        CROSS STREET NAME  \\\n",
       "0                              104 STREET   \n",
       "1                                     NaN   \n",
       "2                                     NaN   \n",
       "3                                     NaN   \n",
       "4                                     NaN   \n",
       "...                                   ...   \n",
       "1722842                               NaN   \n",
       "1722843  GERARD AVENUE                      \n",
       "1722844  FARRINGTON STREET                  \n",
       "1722845  WEST 50 STREET                     \n",
       "1722846  85 AVENUE                          \n",
       "\n",
       "                                  OFF STREET NAME  ...  \\\n",
       "0                                             NaN  ...   \n",
       "1                                             NaN  ...   \n",
       "2        1204      FLATBUSH AVENUE                 ...   \n",
       "3        39        2 AVENUE                        ...   \n",
       "4        2142      8 AVENUE                        ...   \n",
       "...                                           ...  ...   \n",
       "1722842                                       NaN  ...   \n",
       "1722843                                       NaN  ...   \n",
       "1722844                                       NaN  ...   \n",
       "1722845                                       NaN  ...   \n",
       "1722846                                       NaN  ...   \n",
       "\n",
       "         CONTRIBUTING FACTOR VEHICLE 2  CONTRIBUTING FACTOR VEHICLE 3  \\\n",
       "0                          Unspecified                            NaN   \n",
       "1                          Unspecified                            NaN   \n",
       "2                          Unspecified                            NaN   \n",
       "3                          Unspecified                            NaN   \n",
       "4                          Unspecified                            NaN   \n",
       "...                                ...                            ...   \n",
       "1722842                    Unspecified                            NaN   \n",
       "1722843                    Unspecified                            NaN   \n",
       "1722844                    Unspecified                            NaN   \n",
       "1722845                    Unspecified                            NaN   \n",
       "1722846                    Unspecified                            NaN   \n",
       "\n",
       "         CONTRIBUTING FACTOR VEHICLE 4  CONTRIBUTING FACTOR VEHICLE 5  \\\n",
       "0                                  NaN                            NaN   \n",
       "1                                  NaN                            NaN   \n",
       "2                                  NaN                            NaN   \n",
       "3                                  NaN                            NaN   \n",
       "4                                  NaN                            NaN   \n",
       "...                                ...                            ...   \n",
       "1722842                            NaN                            NaN   \n",
       "1722843                            NaN                            NaN   \n",
       "1722844                            NaN                            NaN   \n",
       "1722845                            NaN                            NaN   \n",
       "1722846                            NaN                            NaN   \n",
       "\n",
       "         COLLISION_ID                  VEHICLE TYPE CODE 1  \\\n",
       "0             4027777  Station Wagon/Sport Utility Vehicle   \n",
       "1             4039430  Station Wagon/Sport Utility Vehicle   \n",
       "2             4033013                                  Bus   \n",
       "3             4040942                                Sedan   \n",
       "4             4028049                                Sedan   \n",
       "...               ...                                  ...   \n",
       "1722842       2896726                    PASSENGER VEHICLE   \n",
       "1722843         85154                    PASSENGER VEHICLE   \n",
       "1722844        245559                    PASSENGER VEHICLE   \n",
       "1722845         37635                                  VAN   \n",
       "1722846        219395                    PASSENGER VEHICLE   \n",
       "\n",
       "                         VEHICLE TYPE CODE 2  VEHICLE TYPE CODE 3  \\\n",
       "0        Station Wagon/Sport Utility Vehicle                  NaN   \n",
       "1        Station Wagon/Sport Utility Vehicle                  NaN   \n",
       "2                                        NaN                  NaN   \n",
       "3                                  Ambulance                  NaN   \n",
       "4                                  Box Truck                  NaN   \n",
       "...                                      ...                  ...   \n",
       "1722842                              UNKNOWN                  NaN   \n",
       "1722843        SPORT UTILITY / STATION WAGON                  NaN   \n",
       "1722844                    PASSENGER VEHICLE                  NaN   \n",
       "1722845        SPORT UTILITY / STATION WAGON                  NaN   \n",
       "1722846        SPORT UTILITY / STATION WAGON                  NaN   \n",
       "\n",
       "        VEHICLE TYPE CODE 4 VEHICLE TYPE CODE 5  \n",
       "0                       NaN                 NaN  \n",
       "1                       NaN                 NaN  \n",
       "2                       NaN                 NaN  \n",
       "3                       NaN                 NaN  \n",
       "4                       NaN                 NaN  \n",
       "...                     ...                 ...  \n",
       "1722842                 NaN                 NaN  \n",
       "1722843                 NaN                 NaN  \n",
       "1722844                 NaN                 NaN  \n",
       "1722845                 NaN                 NaN  \n",
       "1722846                 NaN                 NaN  \n",
       "\n",
       "[1722847 rows x 29 columns]"
      ],
      "text/html": "<div>\n<style scoped>\n    .dataframe tbody tr th:only-of-type {\n        vertical-align: middle;\n    }\n\n    .dataframe tbody tr th {\n        vertical-align: top;\n    }\n\n    .dataframe thead th {\n        text-align: right;\n    }\n</style>\n<table border=\"1\" class=\"dataframe\">\n  <thead>\n    <tr style=\"text-align: right;\">\n      <th></th>\n      <th>CRASH DATE</th>\n      <th>CRASH TIME</th>\n      <th>BOROUGH</th>\n      <th>ZIP CODE</th>\n      <th>LATITUDE</th>\n      <th>LONGITUDE</th>\n      <th>LOCATION</th>\n      <th>ON STREET NAME</th>\n      <th>CROSS STREET NAME</th>\n      <th>OFF STREET NAME</th>\n      <th>...</th>\n      <th>CONTRIBUTING FACTOR VEHICLE 2</th>\n      <th>CONTRIBUTING FACTOR VEHICLE 3</th>\n      <th>CONTRIBUTING FACTOR VEHICLE 4</th>\n      <th>CONTRIBUTING FACTOR VEHICLE 5</th>\n      <th>COLLISION_ID</th>\n      <th>VEHICLE TYPE CODE 1</th>\n      <th>VEHICLE TYPE CODE 2</th>\n      <th>VEHICLE TYPE CODE 3</th>\n      <th>VEHICLE TYPE CODE 4</th>\n      <th>VEHICLE TYPE CODE 5</th>\n    </tr>\n  </thead>\n  <tbody>\n    <tr>\n      <th>0</th>\n      <td>11/17/2018</td>\n      <td>8:30</td>\n      <td>QUEENS</td>\n      <td>11368</td>\n      <td>40.745060</td>\n      <td>-73.859220</td>\n      <td>(40.74506, -73.85922)</td>\n      <td>48 AVENUE</td>\n      <td>104 STREET</td>\n      <td>NaN</td>\n      <td>...</td>\n      <td>Unspecified</td>\n      <td>NaN</td>\n      <td>NaN</td>\n      <td>NaN</td>\n      <td>4027777</td>\n      <td>Station Wagon/Sport Utility Vehicle</td>\n      <td>Station Wagon/Sport Utility Vehicle</td>\n      <td>NaN</td>\n      <td>NaN</td>\n      <td>NaN</td>\n    </tr>\n    <tr>\n      <th>1</th>\n      <td>12/06/2018</td>\n      <td>14:00</td>\n      <td>NaN</td>\n      <td>NaN</td>\n      <td>40.545395</td>\n      <td>-74.165750</td>\n      <td>(40.545395, -74.16575)</td>\n      <td>RICHMOND AVENUE</td>\n      <td>NaN</td>\n      <td>NaN</td>\n      <td>...</td>\n      <td>Unspecified</td>\n      <td>NaN</td>\n      <td>NaN</td>\n      <td>NaN</td>\n      <td>4039430</td>\n      <td>Station Wagon/Sport Utility Vehicle</td>\n      <td>Station Wagon/Sport Utility Vehicle</td>\n      <td>NaN</td>\n      <td>NaN</td>\n      <td>NaN</td>\n    </tr>\n    <tr>\n      <th>2</th>\n      <td>11/26/2018</td>\n      <td>14:10</td>\n      <td>BROOKLYN</td>\n      <td>11226</td>\n      <td>40.641006</td>\n      <td>-73.956154</td>\n      <td>(40.641006, -73.956154)</td>\n      <td>NaN</td>\n      <td>NaN</td>\n      <td>1204      FLATBUSH AVENUE</td>\n      <td>...</td>\n      <td>Unspecified</td>\n      <td>NaN</td>\n      <td>NaN</td>\n      <td>NaN</td>\n      <td>4033013</td>\n      <td>Bus</td>\n      <td>NaN</td>\n      <td>NaN</td>\n      <td>NaN</td>\n      <td>NaN</td>\n    </tr>\n    <tr>\n      <th>3</th>\n      <td>12/08/2018</td>\n      <td>0:00</td>\n      <td>MANHATTAN</td>\n      <td>10003</td>\n      <td>40.725056</td>\n      <td>-73.990270</td>\n      <td>(40.725056, -73.99027)</td>\n      <td>NaN</td>\n      <td>NaN</td>\n      <td>39        2 AVENUE</td>\n      <td>...</td>\n      <td>Unspecified</td>\n      <td>NaN</td>\n      <td>NaN</td>\n      <td>NaN</td>\n      <td>4040942</td>\n      <td>Sedan</td>\n      <td>Ambulance</td>\n      <td>NaN</td>\n      <td>NaN</td>\n      <td>NaN</td>\n    </tr>\n    <tr>\n      <th>4</th>\n      <td>11/17/2018</td>\n      <td>17:36</td>\n      <td>MANHATTAN</td>\n      <td>10026</td>\n      <td>40.804157</td>\n      <td>-73.955550</td>\n      <td>(40.804157, -73.95555)</td>\n      <td>NaN</td>\n      <td>NaN</td>\n      <td>2142      8 AVENUE</td>\n      <td>...</td>\n      <td>Unspecified</td>\n      <td>NaN</td>\n      <td>NaN</td>\n      <td>NaN</td>\n      <td>4028049</td>\n      <td>Sedan</td>\n      <td>Box Truck</td>\n      <td>NaN</td>\n      <td>NaN</td>\n      <td>NaN</td>\n    </tr>\n    <tr>\n      <th>...</th>\n      <td>...</td>\n      <td>...</td>\n      <td>...</td>\n      <td>...</td>\n      <td>...</td>\n      <td>...</td>\n      <td>...</td>\n      <td>...</td>\n      <td>...</td>\n      <td>...</td>\n      <td>...</td>\n      <td>...</td>\n      <td>...</td>\n      <td>...</td>\n      <td>...</td>\n      <td>...</td>\n      <td>...</td>\n      <td>...</td>\n      <td>...</td>\n      <td>...</td>\n      <td>...</td>\n    </tr>\n    <tr>\n      <th>1722842</th>\n      <td>07/01/2012</td>\n      <td>9:45</td>\n      <td>NaN</td>\n      <td>NaN</td>\n      <td>NaN</td>\n      <td>NaN</td>\n      <td>NaN</td>\n      <td>NaN</td>\n      <td>NaN</td>\n      <td>NaN</td>\n      <td>...</td>\n      <td>Unspecified</td>\n      <td>NaN</td>\n      <td>NaN</td>\n      <td>NaN</td>\n      <td>2896726</td>\n      <td>PASSENGER VEHICLE</td>\n      <td>UNKNOWN</td>\n      <td>NaN</td>\n      <td>NaN</td>\n      <td>NaN</td>\n    </tr>\n    <tr>\n      <th>1722843</th>\n      <td>07/01/2012</td>\n      <td>9:59</td>\n      <td>BRONX</td>\n      <td>10452</td>\n      <td>40.835397</td>\n      <td>-73.920305</td>\n      <td>(40.835397, -73.920305)</td>\n      <td>EAST 167 STREET</td>\n      <td>GERARD AVENUE</td>\n      <td>NaN</td>\n      <td>...</td>\n      <td>Unspecified</td>\n      <td>NaN</td>\n      <td>NaN</td>\n      <td>NaN</td>\n      <td>85154</td>\n      <td>PASSENGER VEHICLE</td>\n      <td>SPORT UTILITY / STATION WAGON</td>\n      <td>NaN</td>\n      <td>NaN</td>\n      <td>NaN</td>\n    </tr>\n    <tr>\n      <th>1722844</th>\n      <td>07/01/2012</td>\n      <td>9:40</td>\n      <td>QUEENS</td>\n      <td>11354</td>\n      <td>40.764455</td>\n      <td>-73.831773</td>\n      <td>(40.7644548, -73.831773)</td>\n      <td>35 AVENUE</td>\n      <td>FARRINGTON STREET</td>\n      <td>NaN</td>\n      <td>...</td>\n      <td>Unspecified</td>\n      <td>NaN</td>\n      <td>NaN</td>\n      <td>NaN</td>\n      <td>245559</td>\n      <td>PASSENGER VEHICLE</td>\n      <td>PASSENGER VEHICLE</td>\n      <td>NaN</td>\n      <td>NaN</td>\n      <td>NaN</td>\n    </tr>\n    <tr>\n      <th>1722845</th>\n      <td>07/01/2012</td>\n      <td>9:50</td>\n      <td>MANHATTAN</td>\n      <td>10019</td>\n      <td>40.766779</td>\n      <td>-73.996762</td>\n      <td>(40.7667789, -73.9967618)</td>\n      <td>WEST SIDE HIGHWAY</td>\n      <td>WEST 50 STREET</td>\n      <td>NaN</td>\n      <td>...</td>\n      <td>Unspecified</td>\n      <td>NaN</td>\n      <td>NaN</td>\n      <td>NaN</td>\n      <td>37635</td>\n      <td>VAN</td>\n      <td>SPORT UTILITY / STATION WAGON</td>\n      <td>NaN</td>\n      <td>NaN</td>\n      <td>NaN</td>\n    </tr>\n    <tr>\n      <th>1722846</th>\n      <td>07/01/2012</td>\n      <td>9:50</td>\n      <td>QUEENS</td>\n      <td>11001</td>\n      <td>40.736245</td>\n      <td>-73.702966</td>\n      <td>(40.7362448, -73.7029656)</td>\n      <td>265 STREET</td>\n      <td>85 AVENUE</td>\n      <td>NaN</td>\n      <td>...</td>\n      <td>Unspecified</td>\n      <td>NaN</td>\n      <td>NaN</td>\n      <td>NaN</td>\n      <td>219395</td>\n      <td>PASSENGER VEHICLE</td>\n      <td>SPORT UTILITY / STATION WAGON</td>\n      <td>NaN</td>\n      <td>NaN</td>\n      <td>NaN</td>\n    </tr>\n  </tbody>\n</table>\n<p>1722847 rows × 29 columns</p>\n</div>"
     },
     "metadata": {},
     "execution_count": 5
    }
   ],
   "source": [
    "data = pd.read_csv(\"Data.csv\", low_memory = False)\n",
    "data"
   ]
  },
  {
   "cell_type": "code",
   "execution_count": 6,
   "metadata": {},
   "outputs": [
    {
     "output_type": "execute_result",
     "data": {
      "text/plain": [
       "0          11/17/2018\n",
       "1          12/06/2018\n",
       "2          11/26/2018\n",
       "3          12/08/2018\n",
       "4          11/17/2018\n",
       "              ...    \n",
       "1722842    07/01/2012\n",
       "1722843    07/01/2012\n",
       "1722844    07/01/2012\n",
       "1722845    07/01/2012\n",
       "1722846    07/01/2012\n",
       "Name: CRASH DATE, Length: 1722847, dtype: object"
      ]
     },
     "metadata": {},
     "execution_count": 6
    }
   ],
   "source": [
    "crash_dates = data[\"CRASH DATE\"]\n",
    "crash_dates"
   ]
  },
  {
   "cell_type": "code",
   "execution_count": 7,
   "metadata": {},
   "outputs": [
    {
     "output_type": "execute_result",
     "data": {
      "text/plain": [
       "0           8:30\n",
       "1          14:00\n",
       "2          14:10\n",
       "3           0:00\n",
       "4          17:36\n",
       "           ...  \n",
       "1722842     9:45\n",
       "1722843     9:59\n",
       "1722844     9:40\n",
       "1722845     9:50\n",
       "1722846     9:50\n",
       "Name: CRASH TIME, Length: 1722847, dtype: object"
      ]
     },
     "metadata": {},
     "execution_count": 7
    }
   ],
   "source": [
    "crash_times = data[\"CRASH TIME\"]\n",
    "crash_times"
   ]
  }
 ]
}